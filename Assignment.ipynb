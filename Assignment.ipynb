{
 "cells": [
  {
   "cell_type": "code",
   "execution_count": 3,
   "metadata": {},
   "outputs": [],
   "source": [
    "import numpy as np\n",
    "import pandas as pd\n",
    "import matplotlib.pyplot as plt\n",
    "import seaborn as sns\n",
    "from glob import glob"
   ]
  },
  {
   "cell_type": "code",
   "execution_count": null,
   "metadata": {
    "scrolled": false
   },
   "outputs": [],
   "source": [
    "path = r'D:\\Documents\\MSc DS\\GDP Assignment'\n",
    "df_gsdp_master=pd.read_csv(path+'/State-wise Gross Domestic Product (GDP) at current Price on yearly basis.csv')"
   ]
  },
  {
   "cell_type": "code",
   "execution_count": null,
   "metadata": {
    "scrolled": false
   },
   "outputs": [],
   "source": [
    "df_gsdp_growth=df_gsdp_master[df_gsdp_master['Items  Description'].str.contains('Growth')].reset_index()\n",
    "df_gsdp_growth.drop(['index', 'Items  Description'], axis=1, inplace=True)"
   ]
  },
  {
   "cell_type": "code",
   "execution_count": null,
   "metadata": {
    "scrolled": false
   },
   "outputs": [],
   "source": [
    "UTs=['Delhi', 'Andaman & Nicobar Islands', 'Chandigarh']\n",
    "all_nas=['West Bengal1']\n",
    "df_gsdp_growth.drop(UTs, inplace=True, axis=1)\n",
    "df_gsdp_growth.drop(all_nas, inplace=True, axis=1)\n",
    "df_gsdp_growth=df_gsdp_growth[df_gsdp_growth.Duration != '2016-17']"
   ]
  },
  {
   "cell_type": "code",
   "execution_count": null,
   "metadata": {
    "scrolled": false
   },
   "outputs": [],
   "source": [
    "df_growth=df_gsdp_growth.melt(id_vars='Duration')\n",
    "df_growth.columns=['Year', 'State', 'Growth']\n",
    "df_growth['Growth'].fillna(method='ffill', inplace=True)"
   ]
  },
  {
   "cell_type": "code",
   "execution_count": null,
   "metadata": {
    "scrolled": false
   },
   "outputs": [],
   "source": [
    "df_growth['End Year'] = df_growth['Year'].apply(lambda x : x.split('-')[1]).astype(int)\n",
    "df_growth['Growth']    = df_growth['Growth'].astype(float)\n",
    "df_growth=df_growth.reset_index(drop=True)"
   ]
  },
  {
   "cell_type": "code",
   "execution_count": null,
   "metadata": {
    "scrolled": false
   },
   "outputs": [],
   "source": [
    "sns.lmplot(x='End Year', y='Growth', col='State', \n",
    "           col_wrap=8, height=3, truncate=True, \n",
    "           data=df_growth[df_growth.State != 'All_India GDP']).set(ylim=(-15, 25))\n",
    "plt.show()"
   ]
  },
  {
   "cell_type": "code",
   "execution_count": null,
   "metadata": {
    "scrolled": false
   },
   "outputs": [],
   "source": [
    "sns.lmplot(x='End Year', y='Growth', col='State', \n",
    "           col_wrap=5, height=3, truncate=True, \n",
    "           legend_out = False,\n",
    "           data=df_growth[df_growth.State == 'All_India GDP']).set(ylim=(-15, 25)).axes[0].set_title('All India')\n",
    "    \n",
    "plt.show()"
   ]
  },
  {
   "cell_type": "code",
   "execution_count": null,
   "metadata": {
    "scrolled": false
   },
   "outputs": [],
   "source": [
    "fig_size = plt.rcParams[\"figure.figsize\"]\n",
    "fig_size[0] = 14\n",
    "fig_size[1] = 12\n",
    "plt.rcParams[\"figure.figsize\"] = fig_size"
   ]
  },
  {
   "cell_type": "code",
   "execution_count": null,
   "metadata": {
    "scrolled": false
   },
   "outputs": [],
   "source": [
    "avg_growth = df_growth[df_growth.State != 'All_India GDP'].\\\n",
    "                    groupby('State')['Growth'].mean().reset_index().\\\n",
    "                    sort_values('Growth', ascending=False).reset_index().\\\n",
    "                    drop('index', axis=1)"
   ]
  },
  {
   "cell_type": "code",
   "execution_count": null,
   "metadata": {
    "scrolled": false
   },
   "outputs": [],
   "source": [
    "colours = ['cyan' if s != 'Uttar Pradesh' else 'green' for s in avg_growth.State]\n",
    "colours[:3]  = ['blue']*3\n",
    "colours[-3:] = ['gray']*3\n",
    "sns.barplot(x='Growth', y='State', data=avg_growth, orient ='h', palette=colours)\n",
    "plt.title('Averga GDP Growth Rate of Indian States', fontsize=15)\n",
    "plt.show()    \n",
    "###############################################################################"
   ]
  },
  {
   "cell_type": "code",
   "execution_count": null,
   "metadata": {},
   "outputs": [],
   "source": [
    "india_growth = float (df_growth[df_growth.State == 'All_India GDP'].groupby('State')['Growth'].mean().reset_index()['Growth'])\n",
    "print ('The 3 fastest growing states are: ', ', '.join(list(avg_growth.State.head(3))))\n",
    "print ('The 3 slowest growing states are: ', ', '.join(list(avg_growth.State.tail(3))))\n",
    "print (\"India's average growth rate is\", india_growth)\n",
    "print (\"My homestate Uttar Pradesh's growth rate is\", float(avg_growth[avg_growth.State=='Uttar Pradesh'].Growth))"
   ]
  },
  {
   "cell_type": "code",
   "execution_count": null,
   "metadata": {
    "scrolled": false
   },
   "outputs": [],
   "source": [
    "df_gsdp_absolute=df_gsdp_master[df_gsdp_master.Duration=='2015-16']"
   ]
  },
  {
   "cell_type": "code",
   "execution_count": null,
   "metadata": {
    "scrolled": false
   },
   "outputs": [],
   "source": [
    "df_gsdp_absolute = df_gsdp_absolute[ list(set(df_gsdp_absolute) - \\\n",
    "                                {'Duration', 'Delhi', 'Chandigarh', 'Puducherry', \n",
    "                                 'Andaman & Nicobar Islands', 'Items  Description'})]"
   ]
  },
  {
   "cell_type": "code",
   "execution_count": null,
   "metadata": {
    "scrolled": false
   },
   "outputs": [],
   "source": [
    "df_gsdp_absolute = df_gsdp_absolute.transpose().reset_index()\n",
    "df_gsdp_absolute.columns = ['State', 'GDP', 'Growth']"
   ]
  },
  {
   "cell_type": "code",
   "execution_count": null,
   "metadata": {
    "scrolled": false
   },
   "outputs": [],
   "source": [
    "df_gsdp_absolute = df_gsdp_absolute.dropna()\n",
    "df_gsdp_absolute=df_gsdp_absolute.sort_values(by='GDP', ascending=False).reset_index(drop=True)"
   ]
  },
  {
   "cell_type": "code",
   "execution_count": null,
   "metadata": {
    "scrolled": false
   },
   "outputs": [],
   "source": [
    "pal         = sns.color_palette(\"Blues_d\", len(df_gsdp_absolute))\n",
    "growth_rank = df_gsdp_absolute.Growth.argsort().argsort()\n",
    "df_gsdp_absolute=df_gsdp_absolute[df_gsdp_absolute.State != 'All_India GDP']\n",
    "ax=sns.barplot(y='State', x='GDP', palette=np.array(pal[::-1])[growth_rank], data=df_gsdp_absolute)\n",
    "i=1\n",
    "for bar in ax.patches:\n",
    "    x = bar.get_x() + bar.get_width() \n",
    "    y = bar.get_y() + bar.get_height()/2\n",
    "    ax.annotate(str(df_gsdp_absolute.at[i, 'Growth'])+'%', (x, y))    \n",
    "    i += 1\n",
    "plt.title('GDP Of States along with their Growth Rate')\n",
    "plt.show()"
   ]
  },
  {
   "cell_type": "code",
   "execution_count": null,
   "metadata": {
    "scrolled": false
   },
   "outputs": [],
   "source": [
    "print (\"The Top 5 growing states for the financial year 2015-16 are:\\n  \", \n",
    "       \"\\n   \".join(list(df_gsdp_absolute.head().State) ))\n",
    "\n",
    "print ()\n",
    "print ('The States which are doing poorly as they have both the low GDP growth and low GDP are Odisha, Meghalaya and Sikkim.')"
   ]
  },
  {
   "cell_type": "code",
   "execution_count": null,
   "metadata": {
    "scrolled": false
   },
   "outputs": [],
   "source": [
    "plt.rcParams[\"figure.figsize\"] = [12, 8]"
   ]
  },
  {
   "cell_type": "code",
   "execution_count": null,
   "metadata": {
    "scrolled": false
   },
   "outputs": [],
   "source": [
    "UT_list      = ['Delhi', 'Chandigarh', 'Puducherry', 'Andaman & Nicobar Islands']\n",
    "file_columns = ['SerialNum', 'Item', 'Amount']"
   ]
  },
  {
   "cell_type": "code",
   "execution_count": null,
   "metadata": {
    "scrolled": false
   },
   "outputs": [],
   "source": [
    "master_df = pd.DataFrame(columns=['State', 'Item', 'Amount', 'Category'])\n",
    "for data_file in glob(path+'/NAD*.csv'):\n",
    "    state = data_file.split('-')[1].replace('_', ' ')\n",
    "    file_df = pd.read_csv(data_file, usecols=[0, 1, 5], encoding='cp1252')\n",
    "    file_df.columns = file_columns\n",
    "    file_df['Category'] = 'O'\n",
    "    file_df['State']    = state\n",
    "    file_df.iloc[0:6,   3] = 'P'\n",
    "    file_df.iloc[7:10,  3] = 'S'\n",
    "    file_df.iloc[11:26, 3] = 'T'\n",
    "    file_df.loc[file_df.SerialNum == 'Total', ['Category']] = 'G'\n",
    "    file_df.loc[file_df.SerialNum == 'Total', ['Item']] = file_df.loc[file_df.SerialNum == 'Total', ['Item']]+'Total'\n",
    "    file_df = file_df[~(file_df.SerialNum.str.contains('\\.'))]\n",
    "    file_df.drop(['SerialNum'], inplace=True, axis=1)\n",
    "    master_df = master_df.append(file_df)"
   ]
  },
  {
   "cell_type": "code",
   "execution_count": null,
   "metadata": {
    "scrolled": false
   },
   "outputs": [],
   "source": [
    "master_df=master_df[~(master_df.State.isin(UT_list))]\n",
    "master_df.reset_index(drop=True, inplace=True)\n",
    "master_df = master_df[['State', 'Item', 'Amount', 'Category']]\n",
    "##########################################################################################################"
   ]
  },
  {
   "cell_type": "code",
   "execution_count": null,
   "metadata": {
    "scrolled": false
   },
   "outputs": [],
   "source": [
    "ppp_gsdp_df= master_df.loc[master_df.Item == 'Per Capita GSDP (Rs.)', ['State', 'Amount']].sort_values('Amount', ascending=False)\n",
    "sns.barplot(y='State', x='Amount', data=ppp_gsdp_df, palette='Blues_d')\n",
    "plt.title('Per Capita GDP of States of India', fontsize=14)\n",
    "plt.show()"
   ]
  },
  {
   "cell_type": "code",
   "execution_count": null,
   "metadata": {},
   "outputs": [],
   "source": [
    "print ('The top 5 states as per GDP Per Capita are:\\n   ', \n",
    "      \"\\n    \".join (list(ppp_gsdp_df.head().State)))\n",
    "\n",
    "print()\n",
    "\n",
    "print ('The bottom 5 states as per GDP Per Capita are:\\n   ', \n",
    "      \"\\n    \".join (list(ppp_gsdp_df.tail().State)))\n",
    "\n",
    "print()\n",
    "\n",
    "print ('The ratio of Top GDP Per Capita and Bottom GDP Per Capita is', \n",
    "       round(float(ppp_gsdp_df.head(1).Amount) / float(ppp_gsdp_df.tail(1).Amount), 2)  )"
   ]
  },
  {
   "cell_type": "code",
   "execution_count": null,
   "metadata": {
    "scrolled": false
   },
   "outputs": [],
   "source": [
    "for state in master_df['State'].unique():\n",
    "    state_gdp  = master_df.loc[(master_df.State==state) & (master_df.Item=='Gross State Domestic Product'), 'Amount']\n",
    "    \n",
    "    primary_contrib = 100*float(master_df.loc[(master_df.State==state) & (master_df.Item=='PrimaryTotal'), 'Amount']) / float(state_gdp)\n",
    "    secondary_contrib = 100*float(master_df.loc[(master_df.State==state) & (master_df.Item=='SecondaryTotal'), 'Amount']) / float(state_gdp)\n",
    "    tertiary_contrib = 100*float(master_df.loc[(master_df.State==state) & (master_df.Item=='TertiaryTotal'), 'Amount']) / float(state_gdp)\n",
    "    \n",
    "    gdp_df = [state, 'PrimaryContribution', primary_contrib, 'C']\n",
    "    master_df.loc[len(master_df)] = gdp_df\n",
    "    gdp_df = [state, 'SecondaryContribution', secondary_contrib, 'C']    \n",
    "    master_df.loc[len(master_df)] = gdp_df\n",
    "    gdp_df = [state, 'TertiaryContribution', tertiary_contrib, 'C']    \n",
    "    master_df.loc[len(master_df)] = gdp_df\n",
    "    \n",
    "master_df.reset_index(drop=True, inplace=True)\n",
    "master_df['Amount'] = master_df['Amount'].astype(float)"
   ]
  },
  {
   "cell_type": "code",
   "execution_count": null,
   "metadata": {
    "scrolled": false
   },
   "outputs": [],
   "source": [
    "sns.catplot(y='State', x='Amount', hue='Item', data=master_df[master_df.Category=='C'], \n",
    "            kind = 'bar', height=12)\n",
    "plt.title('Sector wise contribution to State GDP (%)', fontsize=14)\n",
    "plt.show()"
   ]
  },
  {
   "cell_type": "code",
   "execution_count": null,
   "metadata": {
    "scrolled": false
   },
   "outputs": [],
   "source": [
    "df_ppp_gdp               = master_df[master_df.Item=='Per Capita GSDP (Rs.)'][['State', 'Amount']].reset_index(drop=True)\n",
    "sz = df_ppp_gdp.Amount.size-1\n",
    "df_ppp_gdp['percentile'] = df_ppp_gdp.rank()['Amount'].apply (lambda x : 100.0*(x-1)/sz)"
   ]
  },
  {
   "cell_type": "code",
   "execution_count": null,
   "metadata": {
    "scrolled": false
   },
   "outputs": [],
   "source": [
    "df_ppp_gdp['Item']       = 'Percentile'\n",
    "df_ppp_gdp['Category']   = 'O'\n",
    "df_ppp_gdp=df_ppp_gdp[['State', 'Item', 'percentile', 'Category']].rename(columns={'percentile' : 'Amount'})\n",
    "master_df=pd.concat([master_df, df_ppp_gdp]).reset_index(drop=True)"
   ]
  },
  {
   "cell_type": "code",
   "execution_count": null,
   "metadata": {
    "scrolled": false
   },
   "outputs": [],
   "source": [
    "sns.set(style=\"white\", color_codes=True)\n",
    "plot = sns.jointplot(master_df[master_df.Item=='PrimaryContribution']['Amount'], \n",
    "              master_df[master_df.Item=='Percentile']['Amount'], kind='reg').\\\n",
    "                  set_axis_labels('Contribution to Primary Sector', 'PPP GDP Percentile')\n",
    "plot.ax_marg_x.set_xlim(0, 100)\n",
    "plot.ax_marg_y.set_ylim(0, 100)\n",
    "plot.fig.suptitle(\"Impact of Primary Sector's contribution to the GDP Percentile \", y=1)\n",
    "plt.show()\n",
    "#-------------------#"
   ]
  },
  {
   "cell_type": "code",
   "execution_count": null,
   "metadata": {
    "scrolled": false
   },
   "outputs": [],
   "source": [
    "def get_cat(percentile):\n",
    "    if percentile <= 20:\n",
    "        return 'C4'\n",
    "    elif percentile <= 50:\n",
    "        return 'C3'\n",
    "    elif percentile <= 85:\n",
    "        return 'C2'\n",
    "    return 'C1'"
   ]
  },
  {
   "cell_type": "code",
   "execution_count": null,
   "metadata": {
    "scrolled": false
   },
   "outputs": [],
   "source": [
    "categorized_states           = master_df[master_df.Item=='Percentile'][['State', 'Amount']].rename(columns={'Amount':'Percentile'})\n",
    "categorized_states['GDPCat'] = categorized_states['Percentile'].apply(get_cat)"
   ]
  },
  {
   "cell_type": "code",
   "execution_count": null,
   "metadata": {
    "scrolled": false
   },
   "outputs": [],
   "source": [
    "master_df=pd.merge(left=master_df, right=categorized_states[['State', 'GDPCat']], on='State')"
   ]
  },
  {
   "cell_type": "code",
   "execution_count": null,
   "metadata": {
    "scrolled": false
   },
   "outputs": [],
   "source": [
    "df_category = pd.DataFrame(columns=['GDPCat', 'Item', 'Amount', 'Percentage'])\n",
    "for cat in ['C1', 'C2', 'C3', 'C4']:\n",
    "    df = master_df[(master_df.GDPCat==cat) &  \n",
    "                   ( (master_df.Category.isin(['P', 'S', 'T'])) | (master_df.Item=='Gross State Domestic Product'))]\n",
    "    df_agg = df.groupby(['GDPCat', 'Item']).sum().reset_index().sort_values('Amount')\n",
    "    category_gdp = float(df_agg[df_agg.Item=='Gross State Domestic Product'].Amount)\n",
    "    target_val = category_gdp*0.79\n",
    "    sum_items=0\n",
    "    item_list    = list(df_agg.Item)[::-1][1:]\n",
    "    select_items = []\n",
    "    for item in item_list:\n",
    "        item_gdp = float(df_agg[df_agg.Item == item].Amount)\n",
    "        df_agg.loc[df_agg.Item==item, 'Percentage'] = 100 * item_gdp / category_gdp\n",
    "        sum_items += item_gdp\n",
    "        if sum_items >= target_val:\n",
    "            continue\n",
    "        select_items.append(item)\n",
    "    df_category = pd.concat([df_category, df_agg])\n",
    "    print ('For category', cat, 'states, these top', len(select_items), \n",
    "           'contribute to the 80% of the GDP:')\n",
    "    print ('\\n  '.join(select_items))\n",
    "    print ('')"
   ]
  },
  {
   "cell_type": "code",
   "execution_count": null,
   "metadata": {
    "scrolled": false
   },
   "outputs": [],
   "source": [
    "df_category = df_category[df_category.Item!='Gross State Domestic Product']\n",
    "df_category.reset_index(drop = True, inplace = True)"
   ]
  },
  {
   "cell_type": "code",
   "execution_count": null,
   "metadata": {
    "scrolled": false
   },
   "outputs": [],
   "source": [
    "sns.barplot(x='Percentage', y='GDPCat', hue='Item', data=df_category, palette = 'Blues_d')\n",
    "plt.title('Sub Sector wise contribution to State Category GDP', fontsize=14)"
   ]
  },
  {
   "cell_type": "markdown",
   "metadata": {},
   "source": [
    "####################################################################################################"
   ]
  },
  {
   "cell_type": "code",
   "execution_count": 46,
   "metadata": {
    "scrolled": false
   },
   "outputs": [],
   "source": [
    "df_dropout = pd.read_csv(path+'/rs_session243_au570_1.1.csv')\n",
    "df_dropout = df_dropout[['Level of Education - State', 'Primary - 2014-2015',\n",
    "                         'Upper Primary - 2014-2015', 'Secondary - 2014-2015']]\n",
    "df_dropout.columns = ['State', 'Primary', 'Upper Primary', 'Secondary']\n",
    "UT_list = ['Delhi', 'Puducherry', 'Chandigarh', 'Dadra & Nagar Haveli', 'A & N Islands', 'Daman & Diu', 'Lakshadweep']"
   ]
  },
  {
   "cell_type": "code",
   "execution_count": null,
   "metadata": {
    "scrolled": false
   },
   "outputs": [],
   "source": [
    "df_dropout = df_dropout[~(df_dropout.State.isin(UT_list))]"
   ]
  },
  {
   "cell_type": "code",
   "execution_count": null,
   "metadata": {
    "scrolled": false
   },
   "outputs": [],
   "source": [
    "df_dropout.loc[df_dropout.State == 'Odisha', 'State'] = 'Odhisa'\n",
    "df_dropout.loc[df_dropout.State == 'Uttrakhand', 'State'] = 'Uttarakhand'\n",
    "df_dropout.loc[df_dropout.State == 'Chhatisgarh', 'State'] = 'Chattisgarh'"
   ]
  },
  {
   "cell_type": "code",
   "execution_count": null,
   "metadata": {
    "scrolled": false
   },
   "outputs": [],
   "source": [
    "df_drop_ppp=pd.merge(left=master_df[master_df.Item=='Per Capita GSDP (Rs.)'][['State', 'Amount']].rename(columns={'Amount' : 'PC_GSDP'}), \n",
    "         right=df_dropout, on='State')"
   ]
  },
  {
   "cell_type": "code",
   "execution_count": null,
   "metadata": {
    "scrolled": false
   },
   "outputs": [],
   "source": [
    "for dropout in ['Primary', 'Upper Primary', 'Secondary']:\n",
    "    plot = sns.jointplot('PC_GSDP', dropout, df_drop_ppp, kind='reg')\n",
    "    plot.ax_marg_x.set_xlim(0, None)\n",
    "    plot.ax_marg_y.set_ylim(0, None)\n",
    "    plot.set_axis_labels('Per Capita GDP of State', 'Dropout in '+dropout, fontsize=12)\n",
    "    plt.subplots_adjust(top=0.9)\n",
    "    plot.fig.suptitle('Checking the relation of '+dropout+' Dropout against Per Capita GDP', fontsize=14)\n",
    "    plt.show()"
   ]
  },
  {
   "cell_type": "code",
   "execution_count": null,
   "metadata": {
    "scrolled": false
   },
   "outputs": [],
   "source": [
    "df_drop_ppp=pd.merge(left=master_df[master_df.Item=='Per Capita GSDP (Rs.)'][['State', 'Amount']].rename(columns={'Amount' : 'PC_GSDP'}), \n",
    "         right=df_dropout, on='State')"
   ]
  },
  {
   "cell_type": "code",
   "execution_count": null,
   "metadata": {
    "scrolled": false
   },
   "outputs": [],
   "source": [
    "for sector in ['PrimaryContribution', 'SecondaryContribution', 'TertiaryContribution', \"Population ('00)\"]:\n",
    "    for level in ['Primary', 'Upper Primary', 'Secondary']:\n",
    "        df_corr = pd.merge(left = master_df[master_df.Item==sector][['State', 'Amount']].rename(columns={'Amount':sector}), \n",
    "                           right = df_dropout, on='State')\n",
    "        plot = sns.jointplot(sector, level, df_corr, kind='reg')\n",
    "        plot.ax_marg_x.set_xlim(0, None)\n",
    "        plot.ax_marg_y.set_ylim(0, None)\n",
    "        plot.fig.suptitle('Checking the relation of '+level+' Dropout against '+sector.replace('Contribution', ''),\n",
    "                          fontsize=14)\n",
    "        plot.set_axis_labels('Contribution By '+sector.replace('Contribution', ''), \n",
    "                             'Dropout in School ('+level+')', fontsize=12)\n",
    "        plt.show()"
   ]
  },
  {
   "cell_type": "code",
   "execution_count": null,
   "metadata": {},
   "outputs": [],
   "source": []
  }
 ],
 "metadata": {
  "kernelspec": {
   "display_name": "Python 3",
   "language": "python",
   "name": "python3"
  },
  "language_info": {
   "codemirror_mode": {
    "name": "ipython",
    "version": 3
   },
   "file_extension": ".py",
   "mimetype": "text/x-python",
   "name": "python",
   "nbconvert_exporter": "python",
   "pygments_lexer": "ipython3",
   "version": "3.6.7"
  }
 },
 "nbformat": 4,
 "nbformat_minor": 2
}
