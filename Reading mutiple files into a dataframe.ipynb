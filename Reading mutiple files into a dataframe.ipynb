{
 "cells": [
  {
   "cell_type": "code",
   "execution_count": 1,
   "metadata": {
    "collapsed": true
   },
   "outputs": [],
   "source": [
    "# Importing packages required\n",
    "import pandas as pd\n",
    "import glob, os"
   ]
  },
  {
   "cell_type": "code",
   "execution_count": 4,
   "metadata": {},
   "outputs": [],
   "source": [
    "# Path where all the files are stored\n",
    "path = r'C:\\Users\\SUMITH\\Python Notebooks\\Python Notebooks\\upGrad GDP Assignment Live Session\\demo' # use your path\n",
    "# Reading all the paths\n",
    "all_files = glob.glob(path + \"/*.csv\")\n",
    "\n",
    "# Empty list to add all the dataframes\n",
    "li = []\n",
    "\n",
    "# Loop to read each file with the path given in the filename variable.\n",
    "for filename in all_files:\n",
    "    # Reading each file as a pandas dataframe\n",
    "    df = pd.read_csv(filename, index_col=None, header=0)\n",
    "    # Selecting only required columns\n",
    "    df = df[['C1','C4']]\n",
    "    # Transpose the data\n",
    "    df = df.T\n",
    "    # Taking the header row\n",
    "    new_header = df.iloc[0] #grab the first row for the header\n",
    "    df = df[1:] #take the data less the header row\n",
    "    # Assign the new header\n",
    "    df.columns = new_header \n",
    "    # Add the section name from the filename\n",
    "    df.loc[:,'Section'] = filename.split('\\\\')[-1].split('.')[0]\n",
    "    # Append the final DF to the list\n",
    "    li.append(df)\n",
    "    \n",
    "# Creating a final DF by joining all the df's in the list li\n",
    "frame = pd.concat(li, axis=0, ignore_index=True)"
   ]
  },
  {
   "cell_type": "code",
   "execution_count": 5,
   "metadata": {},
   "outputs": [
    {
     "data": {
      "text/html": [
       "<div>\n",
       "<style>\n",
       "    .dataframe thead tr:only-child th {\n",
       "        text-align: right;\n",
       "    }\n",
       "\n",
       "    .dataframe thead th {\n",
       "        text-align: left;\n",
       "    }\n",
       "\n",
       "    .dataframe tbody tr th {\n",
       "        vertical-align: top;\n",
       "    }\n",
       "</style>\n",
       "<table border=\"1\" class=\"dataframe\">\n",
       "  <thead>\n",
       "    <tr style=\"text-align: right;\">\n",
       "      <th>C1</th>\n",
       "      <th>Maths</th>\n",
       "      <th>Science</th>\n",
       "      <th>Social Science</th>\n",
       "      <th>Sports</th>\n",
       "      <th>Arts</th>\n",
       "      <th>Music</th>\n",
       "      <th>Hindi</th>\n",
       "      <th>English</th>\n",
       "      <th>Section</th>\n",
       "    </tr>\n",
       "  </thead>\n",
       "  <tbody>\n",
       "    <tr>\n",
       "      <th>0</th>\n",
       "      <td>26</td>\n",
       "      <td>74</td>\n",
       "      <td>1</td>\n",
       "      <td>71</td>\n",
       "      <td>89</td>\n",
       "      <td>70</td>\n",
       "      <td>19</td>\n",
       "      <td>46</td>\n",
       "      <td>Section-1</td>\n",
       "    </tr>\n",
       "    <tr>\n",
       "      <th>1</th>\n",
       "      <td>76</td>\n",
       "      <td>48</td>\n",
       "      <td>38</td>\n",
       "      <td>36</td>\n",
       "      <td>100</td>\n",
       "      <td>83</td>\n",
       "      <td>42</td>\n",
       "      <td>69</td>\n",
       "      <td>Section-2</td>\n",
       "    </tr>\n",
       "    <tr>\n",
       "      <th>2</th>\n",
       "      <td>26</td>\n",
       "      <td>74</td>\n",
       "      <td>0</td>\n",
       "      <td>71</td>\n",
       "      <td>89</td>\n",
       "      <td>70</td>\n",
       "      <td>19</td>\n",
       "      <td>46</td>\n",
       "      <td>Section-3</td>\n",
       "    </tr>\n",
       "    <tr>\n",
       "      <th>3</th>\n",
       "      <td>26</td>\n",
       "      <td>74</td>\n",
       "      <td>1</td>\n",
       "      <td>71</td>\n",
       "      <td>89</td>\n",
       "      <td>70</td>\n",
       "      <td>19</td>\n",
       "      <td>46</td>\n",
       "      <td>Section-4</td>\n",
       "    </tr>\n",
       "    <tr>\n",
       "      <th>4</th>\n",
       "      <td>26</td>\n",
       "      <td>74</td>\n",
       "      <td>1</td>\n",
       "      <td>71</td>\n",
       "      <td>89</td>\n",
       "      <td>70</td>\n",
       "      <td>19</td>\n",
       "      <td>46</td>\n",
       "      <td>Section-5</td>\n",
       "    </tr>\n",
       "  </tbody>\n",
       "</table>\n",
       "</div>"
      ],
      "text/plain": [
       "C1 Maths Science Social Science Sports Arts Music Hindi English    Section\n",
       "0     26      74              1     71   89    70    19      46  Section-1\n",
       "1     76      48             38     36  100    83    42      69  Section-2\n",
       "2     26      74              0     71   89    70    19      46  Section-3\n",
       "3     26      74              1     71   89    70    19      46  Section-4\n",
       "4     26      74              1     71   89    70    19      46  Section-5"
      ]
     },
     "execution_count": 5,
     "metadata": {},
     "output_type": "execute_result"
    }
   ],
   "source": [
    "frame"
   ]
  },
  {
   "cell_type": "markdown",
   "metadata": {},
   "source": [
    "## Best Fit Line"
   ]
  },
  {
   "cell_type": "code",
   "execution_count": 15,
   "metadata": {},
   "outputs": [
    {
     "data": {
      "text/html": [
       "<div>\n",
       "<style>\n",
       "    .dataframe thead tr:only-child th {\n",
       "        text-align: right;\n",
       "    }\n",
       "\n",
       "    .dataframe thead th {\n",
       "        text-align: left;\n",
       "    }\n",
       "\n",
       "    .dataframe tbody tr th {\n",
       "        vertical-align: top;\n",
       "    }\n",
       "</style>\n",
       "<table border=\"1\" class=\"dataframe\">\n",
       "  <thead>\n",
       "    <tr style=\"text-align: right;\">\n",
       "      <th></th>\n",
       "      <th>x</th>\n",
       "      <th>y</th>\n",
       "    </tr>\n",
       "  </thead>\n",
       "  <tbody>\n",
       "    <tr>\n",
       "      <th>0</th>\n",
       "      <td>1</td>\n",
       "      <td>2</td>\n",
       "    </tr>\n",
       "    <tr>\n",
       "      <th>1</th>\n",
       "      <td>2</td>\n",
       "      <td>4</td>\n",
       "    </tr>\n",
       "    <tr>\n",
       "      <th>2</th>\n",
       "      <td>3</td>\n",
       "      <td>8</td>\n",
       "    </tr>\n",
       "    <tr>\n",
       "      <th>3</th>\n",
       "      <td>4</td>\n",
       "      <td>9</td>\n",
       "    </tr>\n",
       "    <tr>\n",
       "      <th>4</th>\n",
       "      <td>5</td>\n",
       "      <td>15</td>\n",
       "    </tr>\n",
       "  </tbody>\n",
       "</table>\n",
       "</div>"
      ],
      "text/plain": [
       "   x   y\n",
       "0  1   2\n",
       "1  2   4\n",
       "2  3   8\n",
       "3  4   9\n",
       "4  5  15"
      ]
     },
     "execution_count": 15,
     "metadata": {},
     "output_type": "execute_result"
    }
   ],
   "source": [
    "# Dummy Data\n",
    "dat = [[1,2], [2,4],[3,8],[4,9],[5,15], [6,18]]\n",
    "df = pd.DataFrame(dat, columns=['x', 'y'])\n",
    "df.head()"
   ]
  },
  {
   "cell_type": "code",
   "execution_count": 16,
   "metadata": {},
   "outputs": [
    {
     "data": {
      "text/plain": [
       "<matplotlib.collections.PathCollection at 0x7a33d605f8>"
      ]
     },
     "execution_count": 16,
     "metadata": {},
     "output_type": "execute_result"
    },
    {
     "data": {
      "image/png": "[encoded data removed]",
      "text/plain": [
       "<Figure size 432x288 with 1 Axes>"
      ]
     },
     "metadata": {},
     "output_type": "display_data"
    }
   ],
   "source": [
    "import matplotlib.pyplot as plt\n",
    "import seaborn as sns\n",
    "% matplotlib inline\n",
    "plt.scatter(x = 'x', y = 'y', data = df)"
   ]
  },
  {
   "cell_type": "code",
   "execution_count": 18,
   "metadata": {},
   "outputs": [
    {
     "data": {
      "text/plain": [
       "poly1d([ 3.25714286, -2.06666667])"
      ]
     },
     "execution_count": 18,
     "metadata": {},
     "output_type": "execute_result"
    }
   ],
   "source": [
    "import numpy as np\n",
    "a = np.polyfit(df['x'],df['y'],1)\n",
    "np.poly1d(a) "
   ]
  },
  {
   "cell_type": "code",
   "execution_count": 26,
   "metadata": {},
   "outputs": [
    {
     "data": {
      "text/plain": [
       "(0.5, 20)"
      ]
     },
     "execution_count": 26,
     "metadata": {},
     "output_type": "execute_result"
    },
    {
     "data": {
      "image/png": "[encoded data removed]",
      "text/plain": [
       "<Figure size 432x288 with 1 Axes>"
      ]
     },
     "metadata": {},
     "output_type": "display_data"
    }
   ],
   "source": [
    "m,b = np.polyfit(df['x'],df['y'],1)\n",
    "plt.scatter(x = 'x', y = 'y', data = df)\n",
    "plt.plot(df['x'], m*df['x']+b , '--r') \n",
    "plt.xlim(0.5, 8)\n",
    "plt.ylim(0.5, 20)"
   ]
  },
  {
   "cell_type": "raw",
   "metadata": {},
   "source": [
    "Information about various lines: https://matplotlib.org/3.1.1/api/_as_gen/matplotlib.pyplot.plot.html"
   ]
  }
 ],
 "metadata": {
  "kernelspec": {
   "display_name": "Python 3",
   "language": "python",
   "name": "python3"
  },
  "language_info": {
   "codemirror_mode": {
    "name": "ipython",
    "version": 3
   },
   "file_extension": ".py",
   "mimetype": "text/x-python",
   "name": "python",
   "nbconvert_exporter": "python",
   "pygments_lexer": "ipython3",
   "version": "3.6.7"
  }
 },
 "nbformat": 4,
 "nbformat_minor": 2
}
