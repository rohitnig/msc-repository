{
 "cells": [
  {
   "cell_type": "markdown",
   "metadata": {},
   "source": [
    "## Working with Strings"
   ]
  },
  {
   "cell_type": "code",
   "execution_count": 6,
   "metadata": {
    "collapsed": false
   },
   "outputs": [
    {
     "name": "stdout",
     "output_type": "stream",
     "text": [
      "['I', 'love', 'Python']\n"
     ]
    }
   ],
   "source": [
    "# Convert a string to list\n",
    "a = \"I love Python\"\n",
    "print(a.split(\" \"))"
   ]
  },
  {
   "cell_type": "code",
   "execution_count": 7,
   "metadata": {
    "collapsed": false
   },
   "outputs": [
    {
     "data": {
      "text/plain": [
       "'My name  is anthony gonsalves'"
      ]
     },
     "execution_count": 7,
     "metadata": {},
     "output_type": "execute_result"
    }
   ],
   "source": [
    "# Convert list to string\n",
    "a = ['My', 'name',' is', 'anthony',  'gonsalves']\n",
    "\" \".join(a)"
   ]
  },
  {
   "cell_type": "code",
   "execution_count": 8,
   "metadata": {
    "collapsed": false
   },
   "outputs": [
    {
     "data": {
      "text/plain": [
       "'nohtyP yeH'"
      ]
     },
     "execution_count": 8,
     "metadata": {},
     "output_type": "execute_result"
    }
   ],
   "source": [
    "## Reverse a string\n",
    "a = \"Hey Python\"\n",
    "a[: : -1]"
   ]
  },
  {
   "cell_type": "code",
   "execution_count": 18,
   "metadata": {
    "collapsed": false
   },
   "outputs": [
    {
     "name": "stdout",
     "output_type": "stream",
     "text": [
      "upgrad\n",
      "UPGRAD\n"
     ]
    }
   ],
   "source": [
    "a = \"upGrad\"\n",
    "print(a.lower())\n",
    "print(a.upper())"
   ]
  },
  {
   "cell_type": "code",
   "execution_count": 21,
   "metadata": {
    "collapsed": false
   },
   "outputs": [
    {
     "name": "stdout",
     "output_type": "stream",
     "text": [
      "False\n",
      "False\n",
      "6\n"
     ]
    }
   ],
   "source": [
    "print(a.islower())\n",
    "print(a.isupper())\n",
    "print(len(a))"
   ]
  },
  {
   "cell_type": "code",
   "execution_count": 10,
   "metadata": {
    "collapsed": false
   },
   "outputs": [
    {
     "name": "stdout",
     "output_type": "stream",
     "text": [
      "I\n",
      " \n",
      "l\n",
      "o\n",
      "v\n",
      "e\n",
      " \n",
      "P\n",
      "y\n",
      "t\n",
      "h\n",
      "o\n",
      "n\n"
     ]
    }
   ],
   "source": [
    "## Loop with strings\n",
    "a = \"I love Python\"\n",
    "for i in a:\n",
    "    print(i)"
   ]
  },
  {
   "cell_type": "code",
   "execution_count": 11,
   "metadata": {
    "collapsed": false
   },
   "outputs": [
    {
     "name": "stdout",
     "output_type": "stream",
     "text": [
      "Yes\n"
     ]
    }
   ],
   "source": [
    "## Check if some word is in the string or not\n",
    "a  = 'I love Python'\n",
    "if \"Python\" in a.split(\" \"):\n",
    "    print('Yes')\n",
    "else:\n",
    "    print(\"No\")"
   ]
  },
  {
   "cell_type": "code",
   "execution_count": 16,
   "metadata": {
    "collapsed": false
   },
   "outputs": [
    {
     "name": "stdout",
     "output_type": "stream",
     "text": [
      "3\n"
     ]
    }
   ],
   "source": [
    "## What is the index number for the letter 'o'\n",
    "a = \"I love Python\"\n",
    "for i in enumerate(a):\n",
    "    if i[1]=='o':\n",
    "        print(i[0])\n",
    "        break"
   ]
  },
  {
   "cell_type": "code",
   "execution_count": 29,
   "metadata": {
    "collapsed": false
   },
   "outputs": [
    {
     "data": {
      "text/plain": [
       "3"
      ]
     },
     "execution_count": 29,
     "metadata": {},
     "output_type": "execute_result"
    }
   ],
   "source": [
    "a = \"I love Python\"\n",
    "a.find(\"o\")"
   ]
  },
  {
   "cell_type": "code",
   "execution_count": 26,
   "metadata": {
    "collapsed": false
   },
   "outputs": [
    {
     "name": "stdout",
     "output_type": "stream",
     "text": [
      "xyc abz\n"
     ]
    }
   ],
   "source": [
    "input_str = \"abc, xyz\"\n",
    "# Expected Output \"xyc abz\"\n",
    "a1 = input_str[5:7]\n",
    "a2 = input_str[0:2]\n",
    "a3 = a1+\"c\"+\" \"+a2+\"z\"\n",
    "print(a3)"
   ]
  },
  {
   "cell_type": "markdown",
   "metadata": {},
   "source": [
    "## Working with Lists"
   ]
  },
  {
   "cell_type": "code",
   "execution_count": 3,
   "metadata": {
    "collapsed": true
   },
   "outputs": [],
   "source": [
    "num_range =  [0,1,2,3,4,5,6,7,8,9]"
   ]
  },
  {
   "cell_type": "code",
   "execution_count": 4,
   "metadata": {
    "collapsed": false
   },
   "outputs": [
    {
     "name": "stdout",
     "output_type": "stream",
     "text": [
      "[1, 3, 5, 7, 9]\n",
      "[0, 2, 4, 6, 8]\n",
      "[3, 6, 9]\n"
     ]
    }
   ],
   "source": [
    "#ODD Numbers\n",
    "print(num_range[1:10:2])\n",
    "#EVEN Numbers\n",
    "print(num_range[0:9:2])\n",
    "#Div by 3\n",
    "print(num_range[3:10:3])"
   ]
  },
  {
   "cell_type": "code",
   "execution_count": 5,
   "metadata": {
    "collapsed": false
   },
   "outputs": [
    {
     "data": {
      "text/plain": [
       "[9, 8, 7, 6, 5, 4, 3, 2, 1, 0]"
      ]
     },
     "execution_count": 5,
     "metadata": {},
     "output_type": "execute_result"
    }
   ],
   "source": [
    "# How to print a list in reverse order?\n",
    "num_range[: : -1]"
   ]
  },
  {
   "cell_type": "markdown",
   "metadata": {},
   "source": [
    "Write an if-else statement to print \"Is Palindrome\" in case a word is a palindrome, else print \"Not a palindrome\". A palindrome is a word that is the spelled the same backwards, for example - Malayalam , Radar."
   ]
  },
  {
   "cell_type": "code",
   "execution_count": 35,
   "metadata": {
    "collapsed": false
   },
   "outputs": [
    {
     "name": "stdout",
     "output_type": "stream",
     "text": [
      "Enter a word : nayan\n",
      "Is a palindrome\n"
     ]
    }
   ],
   "source": [
    "#Solution:\n",
    "input_word = input('Enter a word : ')\n",
    "if input_word[::-1].lower().strip() == input_word.lower().strip():\n",
    "    print(\"Is a palindrome\")\n",
    "else:\n",
    "    print(\"Not a palindrome\")"
   ]
  },
  {
   "cell_type": "markdown",
   "metadata": {},
   "source": [
    "Print all numbers between 300 and 500 that are divisible by 5 as well as 3. Hint: **and** is a good choice"
   ]
  },
  {
   "cell_type": "code",
   "execution_count": 36,
   "metadata": {
    "collapsed": false
   },
   "outputs": [
    {
     "name": "stdout",
     "output_type": "stream",
     "text": [
      "300\n",
      "315\n",
      "330\n",
      "345\n",
      "360\n",
      "375\n",
      "390\n",
      "405\n",
      "420\n",
      "435\n",
      "450\n",
      "465\n",
      "480\n",
      "495\n"
     ]
    }
   ],
   "source": [
    "for num in range(300,500):\n",
    "    if num%5==0 and num%3==0:\n",
    "        print(num)"
   ]
  },
  {
   "cell_type": "markdown",
   "metadata": {},
   "source": [
    "Convert the first letter of each item of the above list to upper case. Use the conventional for loop first. Then use a list comprehension. Name the list as \"proper_version\" list_of_words = [' Diagram','Objective ',' aSSIGNMENT','QueSTions. ','sOlutiONS ' ]"
   ]
  },
  {
   "cell_type": "code",
   "execution_count": 38,
   "metadata": {
    "collapsed": false
   },
   "outputs": [
    {
     "name": "stdout",
     "output_type": "stream",
     "text": [
      "['Diagram', 'Objective', 'Assignment', 'Questions', 'Solutions']\n",
      "['Diagram', 'Objective', 'Assignment', 'Questions', 'Solutions']\n"
     ]
    }
   ],
   "source": [
    "#solution\n",
    "list_of_words = [' Diagram','Objective ',' aSSIGNMENT','QueSTions. ','sOlutiONS ' ]\n",
    "proper_version=[]\n",
    "for word in list_of_words:\n",
    "    proper_word=word.title().strip().strip('.')\n",
    "    proper_version.append(proper_word)\n",
    "    \n",
    "print(proper_version)\n",
    "\n",
    "#List Comprehension\n",
    "proper_version=[word.title().strip().strip('.') for word in list_of_words]\n",
    "print(proper_version)"
   ]
  },
  {
   "cell_type": "markdown",
   "metadata": {},
   "source": [
    "With a given integral number n, write a program to generate a dictionary that contains (i, i*i) such that is an integral number between 1 and n (both included). and then the program should print the dictionary. Suppose the following input is supplied to the program: 8 Then, the output should be: {1: 1, 2: 4, 3: 9, 4: 16, 5: 25, 6: 36, 7: 49, 8: 64}"
   ]
  },
  {
   "cell_type": "code",
   "execution_count": 40,
   "metadata": {
    "collapsed": false
   },
   "outputs": [
    {
     "name": "stdout",
     "output_type": "stream",
     "text": [
      "Enter a natural number:5\n",
      "{1: 1, 2: 4, 3: 9, 4: 16, 5: 25}\n"
     ]
    }
   ],
   "source": [
    "n = int(input('Enter a natural number:'))\n",
    "dictionary = {i:i*i for i in range(1,n+1)}\n",
    "print(dictionary)"
   ]
  },
  {
   "cell_type": "markdown",
   "metadata": {},
   "source": [
    "Given a dictionary with item and price, print the final price including 18% GST to it."
   ]
  },
  {
   "cell_type": "code",
   "execution_count": 7,
   "metadata": {
    "collapsed": false
   },
   "outputs": [
    {
     "name": "stdout",
     "output_type": "stream",
     "text": [
      "10266.0\n"
     ]
    }
   ],
   "source": [
    "sales = {\"Laptop\":2500, \"Printer\":5000, \"Mouse\":200, \"Monitor\": 1000}\n",
    "cost = sum(sales.values())+ (18*sum(sales.values()))/100\n",
    "print(cost)"
   ]
  },
  {
   "cell_type": "code",
   "execution_count": 8,
   "metadata": {
    "collapsed": false
   },
   "outputs": [
    {
     "data": {
      "text/plain": [
       "dict_values([2500, 5000, 200, 1000])"
      ]
     },
     "execution_count": 8,
     "metadata": {},
     "output_type": "execute_result"
    }
   ],
   "source": [
    "sales.values()"
   ]
  },
  {
   "cell_type": "markdown",
   "metadata": {},
   "source": [
    "Print the final cost by applying 18% GST only to the items greater than or equal to 1000"
   ]
  },
  {
   "cell_type": "code",
   "execution_count": 11,
   "metadata": {
    "collapsed": false
   },
   "outputs": [
    {
     "name": "stdout",
     "output_type": "stream",
     "text": [
      "10230.0\n"
     ]
    }
   ],
   "source": [
    "sale1 = 0\n",
    "sale2 = 0\n",
    "\n",
    "for i in sales.values():\n",
    "    if i>=1000:\n",
    "        sale1 +=i\n",
    "    else:\n",
    "        sale2 +=i\n",
    "cost = sale1+((18*sale1)/100)+sale2\n",
    "print(cost)"
   ]
  },
  {
   "cell_type": "markdown",
   "metadata": {},
   "source": [
    "Write a program that accepts a sentence and calculate the number of letters and digits. Suppose the following input is supplied to the program: hello world! 123 Then, the output should be: LETTERS 10 DIGITS 3"
   ]
  },
  {
   "cell_type": "code",
   "execution_count": 12,
   "metadata": {
    "collapsed": false
   },
   "outputs": [
    {
     "name": "stdout",
     "output_type": "stream",
     "text": [
      "Input a string:my name is lakhan 12\n",
      "Letters 14\n",
      "Digits 2\n"
     ]
    }
   ],
   "source": [
    "s = input(\"Input a string:\")\n",
    "d=l=0\n",
    "for c in s:\n",
    "    if c.isdigit():\n",
    "        d=d+1\n",
    "    elif c.isalpha():\n",
    "        l=l+1\n",
    "    else:\n",
    "        pass\n",
    "print(\"Letters\", l)\n",
    "print(\"Digits\", d)"
   ]
  },
  {
   "cell_type": "markdown",
   "metadata": {},
   "source": [
    "Given a list, print the list with the square elements to a new list for the elements which are divisible by 2"
   ]
  },
  {
   "cell_type": "code",
   "execution_count": 14,
   "metadata": {
    "collapsed": false
   },
   "outputs": [
    {
     "data": {
      "text/plain": [
       "[4, 16]"
      ]
     },
     "execution_count": 14,
     "metadata": {},
     "output_type": "execute_result"
    }
   ],
   "source": [
    "a = [1,2,3,4,5]\n",
    "[i**2 for i in a if i%2==0]"
   ]
  },
  {
   "cell_type": "markdown",
   "metadata": {},
   "source": [
    "Given two list, create a new list that will have element wise sum from the given lists"
   ]
  },
  {
   "cell_type": "code",
   "execution_count": 16,
   "metadata": {
    "collapsed": false
   },
   "outputs": [
    {
     "name": "stdout",
     "output_type": "stream",
     "text": [
      "[6, 8, 7, 12, 10]\n"
     ]
    }
   ],
   "source": [
    "x = [1,2,3,4,5]\n",
    "y = [5,6,4,8,5]\n",
    "\n",
    "print(list(map(lambda a,b:a+b,x,y)))"
   ]
  },
  {
   "cell_type": "markdown",
   "metadata": {},
   "source": [
    "Get all elements from a list that are greater than 5"
   ]
  },
  {
   "cell_type": "code",
   "execution_count": 17,
   "metadata": {
    "collapsed": false
   },
   "outputs": [
    {
     "data": {
      "text/plain": [
       "[6, 7, 8, 9]"
      ]
     },
     "execution_count": 17,
     "metadata": {},
     "output_type": "execute_result"
    }
   ],
   "source": [
    "# To get all elements greater than 5\n",
    "list1 = [1,2,3,4,5,6,7,8,9]\n",
    "list(filter(lambda x:x>5,list1))"
   ]
  },
  {
   "cell_type": "markdown",
   "metadata": {},
   "source": [
    "Get the sum of all the numbers in the list without using sum function"
   ]
  },
  {
   "cell_type": "code",
   "execution_count": 18,
   "metadata": {
    "collapsed": false
   },
   "outputs": [
    {
     "data": {
      "text/plain": [
       "15"
      ]
     },
     "execution_count": 18,
     "metadata": {},
     "output_type": "execute_result"
    }
   ],
   "source": [
    "from functools import reduce\n",
    "reduce(lambda x, y: x + y, [0, 1, 2, 3, 4, 5])"
   ]
  }
 ],
 "metadata": {
  "kernelspec": {
   "display_name": "Python 3",
   "language": "python",
   "name": "python3"
  },
  "language_info": {
   "codemirror_mode": {
    "name": "ipython",
    "version": 3
   },
   "file_extension": ".py",
   "mimetype": "text/x-python",
   "name": "python",
   "nbconvert_exporter": "python",
   "pygments_lexer": "ipython3",
   "version": "3.6.6"
  }
 },
 "nbformat": 4,
 "nbformat_minor": 2
}
